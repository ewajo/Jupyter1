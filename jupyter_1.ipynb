{
 "cells": [
  {
   "cell_type": "code",
   "execution_count": 3,
   "id": "a3139c73",
   "metadata": {},
   "outputs": [],
   "source": [
    "# Functions - sekcja 1"
   ]
  },
  {
   "cell_type": "code",
   "execution_count": 4,
   "id": "f6e24dd3",
   "metadata": {},
   "outputs": [],
   "source": [
    "def add (x,y):\n",
    "    return x+y"
   ]
  },
  {
   "cell_type": "code",
   "execution_count": 5,
   "id": "24e4815c",
   "metadata": {},
   "outputs": [],
   "source": [
    "# funkcję wywołujemy przez okrągłe nawiasy ()"
   ]
  },
  {
   "cell_type": "code",
   "execution_count": 6,
   "id": "7d6c5895",
   "metadata": {},
   "outputs": [],
   "source": [
    "result = add(2,3)"
   ]
  },
  {
   "cell_type": "code",
   "execution_count": null,
   "id": "dabe64b8",
   "metadata": {},
   "outputs": [],
   "source": [
    "print(result)"
   ]
  }
 ],
 "metadata": {
  "kernelspec": {
   "display_name": "Python 3 (ipykernel)",
   "language": "python",
   "name": "python3"
  },
  "language_info": {
   "codemirror_mode": {
    "name": "ipython",
    "version": 3
   },
   "file_extension": ".py",
   "mimetype": "text/x-python",
   "name": "python",
   "nbconvert_exporter": "python",
   "pygments_lexer": "ipython3",
   "version": "3.10.9"
  }
 },
 "nbformat": 4,
 "nbformat_minor": 5
}
